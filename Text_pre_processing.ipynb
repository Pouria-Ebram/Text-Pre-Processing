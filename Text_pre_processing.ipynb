{
 "cells": [
  {
   "cell_type": "markdown",
   "metadata": {},
   "source": [
    "# FIT5196 Assessment 1 - Task 2: Text Pre-Processing\n",
    "#### Author Name: Pouria Ebrahimnezhad\n",
    "\n",
    "\n",
    "Date:13/04/2019\n",
    "\n",
    "Environment: Python 3.6.5 and Jupyter notebook\n",
    "Libraries used: \n",
    "* re (for regular expression)\n",
    "* nltk - natural language toolkit (tokenizer, lemmatizer, stopwords, collocations and probabilities) \n",
    "* matplotlib (for plotting)\n",
    "* pylab (for plotting)\n",
    "\n",
    "\n",
    "# 1. Introduction\n",
    "This analysis extracts data from a PDF-based corpus containing 200 Monash University units information. I have converted the pdf file using https://pdftotext.com/ to a text file for pre-processing using this Jupyter notebook code. The original pdf file includes units synopsis and units outcomes in two seperate sections which we have extracted.\n",
    "\n",
    "The pre-processing tasks at a high level include:\n",
    "    1- Normalising units information with respect the words location in sentences according to specification request\n",
    "    2- Tokenisation of units information\n",
    "    3- extraction of bigrams using PMI measure\n",
    "    4- re-tokenisation of units information with respect to the bigrams\n",
    "    5- Removal of context independant and dependant stop words and rare words from the vocabulary\n",
    "    6- Stemming of the tokens using the nltk PorterStemmer\n",
    "    7- Creating a text file including the sparse count vector for each unit"
   ]
  },
  {
   "cell_type": "markdown",
   "metadata": {},
   "source": [
    "# 2. Reading and scraping the file information"
   ]
  },
  {
   "cell_type": "code",
   "execution_count": 1,
   "metadata": {},
   "outputs": [],
   "source": [
    "import re\n",
    "from nltk import tokenize\n",
    "import nltk\n",
    "from itertools import chain\n",
    "import matplotlib.pyplot as plt\n",
    "from nltk.probability import *"
   ]
  },
  {
   "cell_type": "markdown",
   "metadata": {},
   "source": [
    "reading the text file created from the original pdf and storing all lines in a list, the text file is created using https://pdftotext.com/ from the original pdf and here we clean the lines extracted from the file and also skip the first few lines which has table headers"
   ]
  },
  {
   "cell_type": "code",
   "execution_count": 2,
   "metadata": {},
   "outputs": [],
   "source": [
    "with open(\"units_data.txt\") as file:\n",
    "\n",
    "    lines = []\n",
    "    lines = file.readlines()\n",
    "\n",
    "    for i in range(0,len(lines)):\n",
    "        temp = lines[i].strip('\\n')\n",
    "        lines[i] = temp\n",
    "        lines[i] = lines[i].replace('\\x0c', '')\n",
    "        lines[i] = lines[i].replace('\\\\n', '')\n",
    "        \n",
    "    for each in lines:\n",
    "        if each == \"\":\n",
    "            lines.remove(each)\n",
    "\n",
    "    lines = lines[3:]\n",
    "file.close()"
   ]
  },
  {
   "cell_type": "markdown",
   "metadata": {},
   "source": [
    "Next we develop two regex to allow us to seperate each unit and it's related information in two seperate lists"
   ]
  },
  {
   "cell_type": "code",
   "execution_count": 3,
   "metadata": {},
   "outputs": [],
   "source": [
    "units = []\n",
    "unit_info = []\n",
    "for i in range(0, len(lines)):\n",
    "    flag = False\n",
    "    if re.match(r\"^[A-Z]{3}\\d{4}$\",lines[i],re.M):\n",
    "        units.extend(re.findall(r\"^[A-Z]{3}\\d{4}$\",lines[i]))\n",
    "        flag = True\n",
    "        if i != 0:\n",
    "            unit_info.append(new_line)\n",
    "        new_line = \"\"\n",
    "    else:\n",
    "        if flag == False:\n",
    "            if new_line == \"\":\n",
    "                new_line = new_line + lines[i]\n",
    "            else:\n",
    "                new_line = new_line + \" \" + lines[i]\n",
    "    if i == len(lines)-1:\n",
    "        unit_info.append(new_line)"
   ]
  },
  {
   "cell_type": "markdown",
   "metadata": {},
   "source": [
    "now we use a dictionary to store each unit and it's related information"
   ]
  },
  {
   "cell_type": "code",
   "execution_count": 4,
   "metadata": {},
   "outputs": [],
   "source": [
    "unit_dic ={}\n",
    "for i in range(0, len(units)):\n",
    "    unit_dic[units[i]] = unit_info[i]\n"
   ]
  },
  {
   "cell_type": "markdown",
   "metadata": {},
   "source": [
    "# 3. Normalising units information"
   ]
  },
  {
   "cell_type": "markdown",
   "metadata": {},
   "source": [
    "We develop a function which normalises the first word in each sentence to lowercase"
   ]
  },
  {
   "cell_type": "code",
   "execution_count": 5,
   "metadata": {},
   "outputs": [],
   "source": [
    "def lower_func(sentence):\n",
    "    words = sentence.split()\n",
    "    words[0] = words[0].lower()\n",
    "    new_sentence = \"\"\n",
    "    for each in words:\n",
    "        new_sentence = new_sentence + \" \" + each\n",
    "    return(new_sentence.strip())"
   ]
  },
  {
   "cell_type": "markdown",
   "metadata": {},
   "source": [
    "Now I have developed a function to split the synopsis section using the tokenize library to sentences and using the above function we convert the first words to lowercase and return synopsis as string"
   ]
  },
  {
   "cell_type": "code",
   "execution_count": 6,
   "metadata": {},
   "outputs": [],
   "source": [
    "def split_sentence(synop):\n",
    "    sent_list = tokenize.sent_tokenize(synop)\n",
    "    sent_list = [lower_func(each) for each in sent_list]\n",
    "    new_synop = \"\"\n",
    "    for each in sent_list:\n",
    "        new_synop = new_synop + \" \" + each\n",
    "    return(new_synop.strip())"
   ]
  },
  {
   "cell_type": "markdown",
   "metadata": {},
   "source": [
    "Here I convert the previous unit information from the dictionary into two lists containing outcome and synopsis and use the developed functions to normalise them and store the outcome as a tuple in a new dictionary "
   ]
  },
  {
   "cell_type": "code",
   "execution_count": 7,
   "metadata": {
    "scrolled": true
   },
   "outputs": [],
   "source": [
    "new_unit_dic = {}\n",
    "for key, value in unit_dic.items():\n",
    "    bracket_sec = re.findall(r\"\\[(.*?)\\]\", value)\n",
    "    outcome = re.findall(r\"('.*?'|\\\".*?\\\")\", bracket_sec[0])\n",
    "    synopsis = re.findall(r\"(.*?)\\[\", value)\n",
    "    outcome = [lower_func(each) for each in outcome] # Here we normalise the outcome using the above function\n",
    "    synopsis = split_sentence(synopsis[0])\n",
    "    new_unit_dic[key] = (synopsis, outcome)\n"
   ]
  },
  {
   "cell_type": "code",
   "execution_count": 8,
   "metadata": {},
   "outputs": [],
   "source": [
    "final_dic = {}\n",
    "for key, value in new_unit_dic.items():\n",
    "    syn = value[0]\n",
    "    out = \"\"\n",
    "    for each in value[1]:\n",
    "        out = out + \" \" + each\n",
    "    out.strip()\n",
    "    val = syn + out\n",
    "    final_dic[key] = val"
   ]
  },
  {
   "cell_type": "markdown",
   "metadata": {},
   "source": [
    "we have simplified the dictionary structure joining all synopsis and outcomes as we are done with the normalisation of the text and ready to move into the next phase which is tokenising the information of the units"
   ]
  },
  {
   "cell_type": "markdown",
   "metadata": {},
   "source": [
    "# 4. Tokenisation of the words in all units"
   ]
  },
  {
   "cell_type": "markdown",
   "metadata": {},
   "source": [
    "I have first written a function to take a text argument and use the nltk.tokenise library and Regextokenizer to tokenise the text and return the data according to the regex provided in the specification"
   ]
  },
  {
   "cell_type": "code",
   "execution_count": 9,
   "metadata": {},
   "outputs": [],
   "source": [
    "from nltk.tokenize import RegexpTokenizer\n",
    "\n",
    "def tokenizeUnitData(data):\n",
    "    tokenizer = RegexpTokenizer(r\"\\w+(?:[-']\\w+)?\")\n",
    "    tokenised_data = tokenizer.tokenize(data)\n",
    "    return (tokenised_data)"
   ]
  },
  {
   "cell_type": "markdown",
   "metadata": {},
   "source": [
    "### 4.1. Calculating initial vocabulary\n",
    "\n",
    "I now merge all units information and tokenise them to get the full bag of words for all units and create an initial vocabulary. I then calculate the Lexical Diversity of the corpus for future comparision"
   ]
  },
  {
   "cell_type": "code",
   "execution_count": 10,
   "metadata": {},
   "outputs": [
    {
     "name": "stdout",
     "output_type": "stream",
     "text": [
      "there are 32423 of words in all units and 4288 unique vocabulary\n",
      "Lexical Diversity before text wrangling: 7.56\n"
     ]
    }
   ],
   "source": [
    "giant_str = \"\"\n",
    "for key, value in final_dic.items():\n",
    "    giant_str = giant_str + value\n",
    "word_bag = tokenizeUnitData(giant_str)\n",
    "vocab = list(set(word_bag))\n",
    "LD_before = round(len(word_bag)/len(vocab),2)\n",
    "print(f\"there are {len(word_bag)} of words in all units and {len(vocab)} unique vocabulary\")\n",
    "print(f\"Lexical Diversity before text wrangling: {LD_before}\")"
   ]
  },
  {
   "cell_type": "code",
   "execution_count": 11,
   "metadata": {},
   "outputs": [],
   "source": [
    "units_tokenised = {}\n",
    "for k, v in final_dic.items():\n",
    "    units_tokenised[k] = tokenizeUnitData(final_dic[k])"
   ]
  },
  {
   "cell_type": "markdown",
   "metadata": {},
   "source": [
    "Here I have created a new dictionary containing the tokenised version of units information for each unit"
   ]
  },
  {
   "cell_type": "markdown",
   "metadata": {},
   "source": [
    "# 5. Extracting bigrams & Collocations"
   ]
  },
  {
   "cell_type": "markdown",
   "metadata": {},
   "source": [
    "Here I extract the 200 most common bigrams using the PMI measure and nltk library"
   ]
  },
  {
   "cell_type": "code",
   "execution_count": 12,
   "metadata": {},
   "outputs": [],
   "source": [
    "bigram_measures = nltk.collocations.BigramAssocMeasures()\n",
    "extract = nltk.collocations.BigramCollocationFinder.from_words(word_bag)\n",
    "top_200_bigrams = extract.nbest(bigram_measures.pmi, 200)"
   ]
  },
  {
   "cell_type": "code",
   "execution_count": 13,
   "metadata": {},
   "outputs": [
    {
     "data": {
      "text/plain": [
       "[('138', 'CE'),\n",
       " ('1910-1945', 'supplemented'),\n",
       " ('AN', 'MC'),\n",
       " ('ATS1899', 'Music'),\n",
       " ('ATS2297', 'ATS3297'),\n",
       " ('Act', '2014'),\n",
       " ('Analytics', 'Lab'),\n",
       " ('Anthropocene', 'Era'),\n",
       " ('Apartheid', 'Museum'),\n",
       " ('Athenian', 'playwrights'),\n",
       " ('Augustus', 'Claudius'),\n",
       " ('Bank', 'Gaza'),\n",
       " ('Bar', \"Kokhba's\"),\n",
       " ('Child', 'UNCRC'),\n",
       " ('Claudius', 'Nero'),\n",
       " ('Constitution', 'Hill'),\n",
       " ('Dietary', 'Guidelines'),\n",
       " ('Dietitians', 'Association'),\n",
       " ('Division', '1RN'),\n",
       " ('GATT', 'WTO'),\n",
       " ('Gacaca', 'village'),\n",
       " ('God', 'morality'),\n",
       " ('Hispanic', 'Studies'),\n",
       " ('Julius', 'Caesar'),\n",
       " ('Korea', '1910-1945'),\n",
       " ('Management', 'Body'),\n",
       " ('Materials', 'Engineer'),\n",
       " ('Methods', 'lays'),\n",
       " ('Midwifery', 'Council'),\n",
       " ('Moot', 'Court'),\n",
       " ('Museum', 'Constitution'),\n",
       " ('NMBA', 'Registered'),\n",
       " ('NUR5002', 'Contemporary'),\n",
       " ('Nations', 'Convention'),\n",
       " (\"Pearson's\", 'correlation'),\n",
       " ('Phase', 'Rule'),\n",
       " ('Plato', 'Thucydides'),\n",
       " ('Praetorian', 'Guard'),\n",
       " ('Prato', 'programme'),\n",
       " ('Project', 'Management'),\n",
       " ('Regional', 'Trade'),\n",
       " ('Registered', 'Nurse'),\n",
       " ('Scientific', 'Basis'),\n",
       " ('Sexual', 'Violence'),\n",
       " ('Social', 'Work'),\n",
       " ('Society', 'Population'),\n",
       " ('Software', 'Patterns'),\n",
       " ('Solver', 'Interest'),\n",
       " ('Studio', '5'),\n",
       " ('Supervised', 'Professional'),\n",
       " ('Trade', 'Agreements'),\n",
       " ('UNCRC', 'rests'),\n",
       " ('US', 'tax'),\n",
       " ('USA', 'Southeast'),\n",
       " ('United', 'Nations'),\n",
       " ('Via', 'Flaminia'),\n",
       " ('Victorian', 'Mental'),\n",
       " ('WTO', 'System'),\n",
       " ('aerodynamics', 'avionics'),\n",
       " ('allegedly', 'unites'),\n",
       " ('allochthonous', 'terranes'),\n",
       " ('anargumentative', 'piece'),\n",
       " ('answers', 'translations'),\n",
       " ('anti-discrimination', 'termination'),\n",
       " ('antiseptics', 'disinfectants'),\n",
       " ('appraisal', 'equal'),\n",
       " ('approximately', '60'),\n",
       " ('aqueous', 'electrolyte'),\n",
       " ('arc', 'volcanism'),\n",
       " ('assessed', 'homework'),\n",
       " ('astrophysical', 'fluid'),\n",
       " ('back', 'arc'),\n",
       " ('bacteria', 'fungi'),\n",
       " ('black', 'holes'),\n",
       " ('bloody', 'revolts'),\n",
       " ('bony', 'landmark'),\n",
       " ('brought', 'Europeans'),\n",
       " ('ca', '59'),\n",
       " ('cancers', 'menstrual'),\n",
       " ('carbohydrates', 'fats'),\n",
       " ('centuries', 'rather'),\n",
       " ('chromosome', 'variation'),\n",
       " ('clinicians', 'technicians'),\n",
       " ('colonial', 'Korea'),\n",
       " ('compression', 'bandaging'),\n",
       " ('comprises', 'six'),\n",
       " ('conduction', 'convection'),\n",
       " ('conflicts', 'emerged'),\n",
       " ('conscientious', 'refusals'),\n",
       " ('contributor', 'brings'),\n",
       " ('correlation', 'coefficient'),\n",
       " ('cradle-to', 'grave'),\n",
       " ('cultivate', 'caution'),\n",
       " ('deportation', 'internment'),\n",
       " ('dialogue', 'mode'),\n",
       " ('dislocations', 'stacking'),\n",
       " ('dissertations', 'although'),\n",
       " ('distinctive', 'methodological'),\n",
       " ('educated', 'geoscience'),\n",
       " ('email', 'newsgroups'),\n",
       " ('emperors', 'Augustus'),\n",
       " ('emphasising', 'skewness'),\n",
       " ('employability', 'lifelong'),\n",
       " ('endoderm', 'mesoderm'),\n",
       " ('engineers', 'whose'),\n",
       " ('erectile', 'dysfunction'),\n",
       " ('even', 'billions'),\n",
       " ('expanded', 'generalist'),\n",
       " ('expansive', 'definition'),\n",
       " ('extemporaneous', 'dispensing'),\n",
       " ('extending', 'self-awareness'),\n",
       " ('face-to', 'face'),\n",
       " ('faster', 'generation'),\n",
       " ('fats', 'proteins'),\n",
       " ('faults', 'twin'),\n",
       " ('fibre-reinforced', 'composites'),\n",
       " ('fixed', 'income'),\n",
       " ('flat', 'plates'),\n",
       " ('former', 'colonies'),\n",
       " ('forming', 'mould'),\n",
       " ('galaxies', 'astrophysical'),\n",
       " ('gallbladder', 'biliary'),\n",
       " ('geology', 'apart'),\n",
       " ('google', 'sketch-up'),\n",
       " ('graduation', 'alert'),\n",
       " ('graphical', 'displays'),\n",
       " ('gravitational', 'wave'),\n",
       " ('great', 'Athenian'),\n",
       " ('greetings', 'self-introduction'),\n",
       " ('gutters', 'swales'),\n",
       " ('harbour', 'inefficiencies'),\n",
       " ('highlight', 'salient'),\n",
       " ('his', 'her'),\n",
       " ('hub', 'transgresses'),\n",
       " ('hyperactive', 'back'),\n",
       " ('ie', 'scanners'),\n",
       " ('income', 'securities'),\n",
       " ('indications', 'dosage'),\n",
       " ('individualism', 'self-sufficiency'),\n",
       " ('inquiring', 'adventurous'),\n",
       " ('intensively', 'delivered'),\n",
       " ('interstitials', 'dislocations'),\n",
       " ('isolated', 'gloomy'),\n",
       " ('isotopic', 'tracers'),\n",
       " ('jini', 'JavaSpaces'),\n",
       " (\"l'oeil\", 'excess'),\n",
       " ('lab', 'fosters'),\n",
       " ('load', 'paths'),\n",
       " ('lower', 'limb'),\n",
       " ('magneto-hydrodynamics', 'galaxy'),\n",
       " ('malaysian', 'Dietary'),\n",
       " ('malformations', 'neoplasia'),\n",
       " ('mapping', 'chromosome'),\n",
       " ('mapreduce', 'Hadoop'),\n",
       " ('marine', 'railway'),\n",
       " ('mechatronic', 'engineers'),\n",
       " ('mechatronics', 'engineer'),\n",
       " ('memorization', 'note-taking'),\n",
       " ('military', 'religious'),\n",
       " ('millions', 'even'),\n",
       " ('moulds', 'fired'),\n",
       " ('multilingual', 'intra'),\n",
       " ('nano-masks', 'fabrication'),\n",
       " ('nationalism', 'Zionist'),\n",
       " ('neoplasia', 'demyelinating'),\n",
       " ('neoplastic', 'ulcerations'),\n",
       " ('newsgroups', 'intranet'),\n",
       " ('non-circular', 'cross-sections'),\n",
       " ('overarching', 'theme'),\n",
       " ('particle', 'eddy'),\n",
       " ('personify', 'radical'),\n",
       " ('polypharmacy', 'lifestyle'),\n",
       " ('population-based', 'approached'),\n",
       " ('prices', 'derivatives'),\n",
       " ('principal', 'instrument'),\n",
       " ('prospective', 'employers'),\n",
       " ('protective', 'workers'),\n",
       " ('proteins', 'minerals'),\n",
       " ('proxy', 'decision-makers'),\n",
       " ('publication', 'broadcast'),\n",
       " ('pyoderma', 'gangrenosum'),\n",
       " ('radical', 'individualism'),\n",
       " ('rainfall', 'streamflow'),\n",
       " ('rapid', 'increase'),\n",
       " ('rebuilding', 'states'),\n",
       " ('refractory', 'moulds'),\n",
       " ('regular', 'assessed'),\n",
       " ('reinforce', 'conceptions'),\n",
       " ('relativism', 'pose'),\n",
       " ('remnants', 'neutron'),\n",
       " ('replication', 'reductionist'),\n",
       " ('residence', 'times'),\n",
       " ('resourcing', 'difficulties'),\n",
       " ('revoked', 'revived'),\n",
       " (\"rhetoric's\", 'informing'),\n",
       " ('ribbon', 'continent'),\n",
       " ('scanners', 'printers'),\n",
       " ('score', 'ultimately'),\n",
       " ('self-confident', 'imperialism'),\n",
       " ('sensing', 'actuation')]"
      ]
     },
     "execution_count": 13,
     "metadata": {},
     "output_type": "execute_result"
    }
   ],
   "source": [
    "top_200_bigrams"
   ]
  },
  {
   "cell_type": "markdown",
   "metadata": {},
   "source": [
    "### 5.1 Re-Tokenising units information\n",
    "\n",
    "Now since we need to include the bigrams in our vocabulary we need to re-tokenise units again with respect to the bigrams that was extracted from previous section. This is achieved using the mwetokeniser which takes care of this for us.\n",
    "\n",
    "After this step I have generated another bag of words for all new tokens and using that I have generated a new list of collocated vocabulary, we can see that there has been a small increase in the lexical diversity of our corpus after this step"
   ]
  },
  {
   "cell_type": "code",
   "execution_count": 14,
   "metadata": {},
   "outputs": [
    {
     "name": "stdout",
     "output_type": "stream",
     "text": [
      "our new collocated vocab has 4062 words\n",
      "our new Lexical Diversity after tokenisation with bigrams included: 7.94\n"
     ]
    }
   ],
   "source": [
    "mwetokenizer = nltk.MWETokenizer(top_200_bigrams)\n",
    "colloc_units =  dict((unit_id, mwetokenizer.tokenize(unit_tokens)) for unit_id,unit_tokens in units_tokenised.items())\n",
    "all_words_colloc = list(chain.from_iterable(colloc_units.values()))\n",
    "colloc_vocab = list(set(all_words_colloc))\n",
    "colloc_vocab = [w for w in colloc_vocab if len(w) >= 3] # here we make sure the vocabulary includes words with more than 3 letters\n",
    "LD_after_bi = round(len(all_words_colloc)/len(colloc_vocab),2)\n",
    "print(f\"our new collocated vocab has {len(colloc_vocab)} words\")\n",
    "print(f\"our new Lexical Diversity after tokenisation with bigrams included: {LD_after_bi}\")"
   ]
  },
  {
   "cell_type": "markdown",
   "metadata": {},
   "source": [
    "# 6. Removing Stop words and Rare Tokens\n",
    "\n",
    "In this section I have used the guidelines provided in the specification to increase the lexical diversity required for the purpose of this task, the steps included here are:\n",
    "\n",
    "* Removing the context-independent stop words\n",
    "* Removing context dependent words using document frequency of 95%\n",
    "* Removing Rare tokens using document frequency of 5%"
   ]
  },
  {
   "cell_type": "markdown",
   "metadata": {},
   "source": [
    "### 6.1 Removing Context-independent stop words\n",
    "\n",
    "Here I find all context-independent stop words from the provided file as per specifications and I remove them from the vocabulary.\n",
    "\n",
    "please note that this file needs to be present when executing the code here"
   ]
  },
  {
   "cell_type": "code",
   "execution_count": 15,
   "metadata": {},
   "outputs": [
    {
     "name": "stdout",
     "output_type": "stream",
     "text": [
      "our new vocab has 3856 words, we have removed 206 distinct words from the vocabulary\n",
      "This means 5.0% of the words were removed in this step\n"
     ]
    }
   ],
   "source": [
    "stopwords = []\n",
    "with open('./stopwords_en.txt') as f:\n",
    "    stopwords = f.read().splitlines()\n",
    "stopwords_set = set(stopwords)\n",
    "f.close()\n",
    "\n",
    "# removing these stop words from the vocab\n",
    "vocab_1 = [w for w in colloc_vocab if w not in stopwords_set]\n",
    "stopped = [w for w in colloc_vocab if w in stopwords_set]\n",
    "print(f\"our new vocab has {len(vocab_1)} words, we have removed {len(stopped)} distinct words from the vocabulary\")\n",
    "print(f\"This means {round(len(stopped)/len(colloc_vocab),2)*100}% of the words were removed in this step\")"
   ]
  },
  {
   "cell_type": "markdown",
   "metadata": {},
   "source": [
    "### 6.2 Removing Context dependant words\n",
    "\n",
    "I first generate the document frequency for all words in our remaining vocabulary to create a visualisation of the frequency and use for the removal of frequent and rare tokens later"
   ]
  },
  {
   "cell_type": "code",
   "execution_count": 16,
   "metadata": {},
   "outputs": [
    {
     "data": {
      "image/png": "[encoded data removed]",
      "text/plain": [
       "<Figure size 432x288 with 1 Axes>"
      ]
     },
     "metadata": {},
     "output_type": "display_data"
    }
   ],
   "source": [
    "words_1 = list(chain.from_iterable([set(value) for value in colloc_units.values()])) \n",
    "fd_1 = FreqDist(words_1)\n",
    "fd_1.plot(25)"
   ]
  },
  {
   "cell_type": "markdown",
   "metadata": {},
   "source": [
    "As indicated in the specification we have to remove the words that appear in more than 95% of our units. Since I had 193 unique units in my original dictionary, this means I need to remove words that apear in more than 183 units"
   ]
  },
  {
   "cell_type": "code",
   "execution_count": 17,
   "metadata": {},
   "outputs": [
    {
     "name": "stdout",
     "output_type": "stream",
     "text": [
      "our new vocab has 3856 words, we have removed 0 distinct words from the vocabulary\n"
     ]
    }
   ],
   "source": [
    "vocab_2 = [word for word in vocab_1 if fd_1[word] < 183]\n",
    "frequent_words = [word for word in vocab_1 if fd_1[word] > 183]\n",
    "print(f\"our new vocab has {len(vocab_2)} words, we have removed {len(frequent_words)} distinct words from the vocabulary\")"
   ]
  },
  {
   "cell_type": "markdown",
   "metadata": {},
   "source": [
    "We can see that we had no words in my corpus that meets this criteria, meaning all words are repeated with frequency of less than 95%. This step hasn't increased the lexical diversity"
   ]
  },
  {
   "cell_type": "markdown",
   "metadata": {},
   "source": [
    "### 6.3 Removing Rare Tokens\n",
    "\n",
    "I have used the code provided in the tutorial to asses the frequency of the frequencies of the words in my corpus, this allows for checking the document for rare or more frequent words, we can see that as we are looking to remove the words that appear in less than 5% of the units this corresponds to the upper part of the graph"
   ]
  },
  {
   "cell_type": "code",
   "execution_count": 18,
   "metadata": {},
   "outputs": [
    {
     "data": {
      "image/png": "[encoded data removed]",
      "text/plain": [
       "<Figure size 432x288 with 1 Axes>"
      ]
     },
     "metadata": {},
     "output_type": "display_data"
    }
   ],
   "source": [
    "ffd = FreqDist(fd_1.values())\n",
    "from pylab import *\n",
    "y = [0]*14\n",
    "for k, v in ffd.items():\n",
    "     if k <= 10:\n",
    "        y[k-1] = v\n",
    "     elif k >10 and k <= 50:\n",
    "        y[10] =  y[10] + v\n",
    "     elif k >50 and k <= 100:\n",
    "        y[11] =  y[11] + v\n",
    "     elif k > 100 and k <= 500:\n",
    "        y[12] =  y[12] + v\n",
    "     else:\n",
    "        y[13] =  y[13] + v\n",
    "x = range(1, 15) # generate integer from 1 to 14\n",
    "ytks =list(map(str, range(1, 11))) # covert a integer list to a string list\n",
    "ytks.append('10-50')\n",
    "ytks.append('51-100')\n",
    "ytks.append('101-500')\n",
    "ytks.append('>500')\n",
    "barh(x,y, align='center')\n",
    "yticks(x, ytks)\n",
    "xlabel('Frequency of Frequency')\n",
    "ylabel('Word Frequency')\n",
    "grid(True)"
   ]
  },
  {
   "cell_type": "markdown",
   "metadata": {},
   "source": [
    "I now find the rare tokens and remove them from the vocabulary based on document frequency of less than 5%, this means that for my corpus I need to remove the words that appear in less than 10 units"
   ]
  },
  {
   "cell_type": "code",
   "execution_count": 19,
   "metadata": {},
   "outputs": [
    {
     "name": "stdout",
     "output_type": "stream",
     "text": [
      "our new vocab has 266 words, we have removed 3562 distinct words from the vocabulary\n",
      "This means 92.0% of the words were removed in this step\n"
     ]
    }
   ],
   "source": [
    "vocab_3 = [w for w in vocab_2 if fd_1[w]>10]\n",
    "rare_words = [word for word in vocab_2 if fd_1[word] < 10]\n",
    "print(f\"our new vocab has {len(vocab_3)} words, we have removed {len(rare_words)} distinct words from the vocabulary\")\n",
    "print(f\"This means {round(len(rare_words)/len(vocab_2),2)*100}% of the words were removed in this step\")"
   ]
  },
  {
   "cell_type": "markdown",
   "metadata": {},
   "source": [
    "I now clean all the units tokens with respect to the vocabulary I have created in the previous step and store in a new dictionary"
   ]
  },
  {
   "cell_type": "code",
   "execution_count": 20,
   "metadata": {},
   "outputs": [],
   "source": [
    "units_clean_tokens = {}\n",
    "for unit_id in colloc_units:\n",
    "    units_clean_tokens[unit_id] = [word for word in colloc_units[unit_id] if word in vocab_3]    "
   ]
  },
  {
   "cell_type": "markdown",
   "metadata": {},
   "source": [
    "# 7. Stemming and Lemmatization"
   ]
  },
  {
   "cell_type": "markdown",
   "metadata": {},
   "source": [
    "Here I use the porterstemmer to stem the tokens, However through trial and error I have noticed that the porter stemmer will change all output to lowercase. I have made sure this is reflected in the code to skip any words that have upper case letters"
   ]
  },
  {
   "cell_type": "code",
   "execution_count": 21,
   "metadata": {},
   "outputs": [],
   "source": [
    "from nltk.stem import PorterStemmer\n",
    "stemmer = PorterStemmer()\n",
    "stem_units = {}\n",
    "for key, value in units_clean_tokens.items():\n",
    "    final_tokens =[]\n",
    "    for i in range(len(value)):\n",
    "        if value[i].islower():\n",
    "            final_tokens.append(stemmer.stem(value[i]))\n",
    "        else:\n",
    "            final_tokens.append(value[i])\n",
    "    stem_units[key] = final_tokens"
   ]
  },
  {
   "cell_type": "markdown",
   "metadata": {},
   "source": [
    "# 8. Generating the final vocabulary and count vector file\n",
    "\n",
    "Finally, I create the bag of words containing all that is left from the corpus and create the final vocabulary set, also I have claculated the final Lexical Diversity to show the improvements made post wrangling of the text\n",
    "\n",
    "I then have created the two text files required as per the specifications with one containing the final vocabulary sorted alphabetically and the corresponding index in the vocabulary list.\n",
    "\n",
    "Then I have generated the vector count required for each unit with the specified format.\n",
    "\n",
    "* Note: Please note that in my corpus I had 2 units which didn't have any information for both synopsis and outcome. I have kept these in units in the output file with no information infront. I have also made sure there is no comma included after them to make sure the documents are parsable as required "
   ]
  },
  {
   "cell_type": "code",
   "execution_count": 22,
   "metadata": {},
   "outputs": [],
   "source": [
    "allwords = list(chain.from_iterable(stem_units.values()))\n",
    "final_vocab = list(set(allwords))\n",
    "final_vocab.sort()\n",
    "LD_final = round(len(allwords)/len(final_vocab),2)"
   ]
  },
  {
   "cell_type": "code",
   "execution_count": 23,
   "metadata": {},
   "outputs": [],
   "source": [
    "out_file = open(\"vocab.txt\", 'w')\n",
    "for i in range(0,len(final_vocab)):\n",
    "    if i != (len(final_vocab)-1):\n",
    "        out_file.write(\"{}:{} \".format(final_vocab[i],final_vocab.index(final_vocab[i])))\n",
    "        out_file.write('\\n')\n",
    "    else:\n",
    "        out_file.write(\"{}:{} \".format(final_vocab[i],final_vocab.index(final_vocab[i])))\n",
    "out_file.close()"
   ]
  },
  {
   "cell_type": "code",
   "execution_count": 24,
   "metadata": {},
   "outputs": [],
   "source": [
    "out_file = open(\"countVec.txt\", 'w')\n",
    "for k,v in stem_units.items():\n",
    "    if v != []:\n",
    "        out_file.write(\"{},\".format(k))\n",
    "        for i in range(0, len(v)):\n",
    "            if i != (len(v) - 1):\n",
    "                out_file.write(\"{}:{},\".format(final_vocab.index(v[i]),v.count(v[i])))\n",
    "            else:\n",
    "                out_file.write(\"{}:{}\".format(final_vocab.index(v[i]),v.count(v[i])))\n",
    "        out_file.write('\\n')\n",
    "    else:\n",
    "        out_file.write(\"{}\".format(k))\n",
    "        out_file.write('\\n')\n",
    "    #stats_dic[k] = sparse\n",
    "out_file.close()"
   ]
  },
  {
   "cell_type": "markdown",
   "metadata": {},
   "source": [
    "# 9. Summary\n",
    "\n",
    "The wrangling steps shows how a text which had below statistics, was reduced with respect to the main features which could be used for further processing such as topic modelling, search and other information extraction."
   ]
  },
  {
   "cell_type": "code",
   "execution_count": 25,
   "metadata": {},
   "outputs": [
    {
     "name": "stdout",
     "output_type": "stream",
     "text": [
      "Total number of words: 32423\n",
      "Total number of vocabs: 4288\n",
      "Lexical Diversity before text wrangling: 7.56\n"
     ]
    }
   ],
   "source": [
    "# Text statistics before Wrangling\n",
    "print(f\"Total number of words: {len(word_bag)}\")\n",
    "print(f\"Total number of vocabs: {len(vocab)}\")\n",
    "print(f\"Lexical Diversity before text wrangling: {LD_before}\")"
   ]
  },
  {
   "cell_type": "code",
   "execution_count": 26,
   "metadata": {},
   "outputs": [
    {
     "name": "stdout",
     "output_type": "stream",
     "text": [
      "Total number of words: 9188\n",
      "Total number of vocabs: 211\n",
      "Lexical Diversity before text wrangling: 43.55\n"
     ]
    }
   ],
   "source": [
    "# Text statistics after Wrangling\n",
    "print(f\"Total number of words: {len(allwords)}\")\n",
    "print(f\"Total number of vocabs: {len(final_vocab)}\")\n",
    "print(f\"Lexical Diversity before text wrangling: {LD_final}\")"
   ]
  }
 ],
 "metadata": {
  "kernelspec": {
   "display_name": "Python 3",
   "language": "python",
   "name": "python3"
  },
  "language_info": {
   "codemirror_mode": {
    "name": "ipython",
    "version": 3
   },
   "file_extension": ".py",
   "mimetype": "text/x-python",
   "name": "python",
   "nbconvert_exporter": "python",
   "pygments_lexer": "ipython3",
   "version": "3.6.4"
  }
 },
 "nbformat": 4,
 "nbformat_minor": 2
}
